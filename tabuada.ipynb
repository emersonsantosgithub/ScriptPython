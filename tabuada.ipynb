{
 "cells": [
  {
   "cell_type": "code",
   "execution_count": null,
   "id": "11a5ac2c",
   "metadata": {},
   "outputs": [],
   "source": [
    "def tabuada():\n",
    "    while True:\n",
    "        print('Seja bem vindo à tabuada 1 á 10')\n",
    "        print('Escolha operação desejada:\\n1 - Adição\\n2 - Subtração\\n3 - Multiplicação\\n4 - Divisão')\n",
    "    \n",
    "        escolha = input('Escolha opção desejada: 1 - 2 - 3 - 4 (Ou escolha \"s\" para sair): ')\n",
    "    \n",
    "        if escolha.lower() == 's':\n",
    "            print('Até mais. Obrigado')\n",
    "            break\n",
    "    \n",
    "        if escolha in ('1', '2', '3', '4'):\n",
    "            num1 = int(input('Insira o primeiro numero de 1 á 10: '))\n",
    "            num2 = int(input('Insira o segundo numero de 1 á 10: '))\n",
    "        \n",
    "            if 1 <= num1 <= 10 and 1 <= num2 <= 10:\n",
    "                if escolha == '1':\n",
    "                    resultado = num1 + num2\n",
    "                    print(f'Resultado: {resultado}')\n",
    "                    \n",
    "                elif escolha == '2':\n",
    "                    resultado = num1 - num2\n",
    "                    print(f'Resultado: {resultado}')\n",
    "                \n",
    "                elif escolha == '3':\n",
    "                    resultado = num1 * num2\n",
    "                    print(f'Resultado: {resultado}')\n",
    "                    \n",
    "                elif escolha == '4':\n",
    "                    if num2 != 0:\n",
    "                        resultado = num1 / num2\n",
    "                        print(f'Resultado: {resultado}')\n",
    "                    else:\n",
    "                        print('Não é possivel dividir por zero.')\n",
    "            else:\n",
    "                print('Opção inválida ou números fora da faixa de 1 a 10.')\n",
    "        else:\n",
    "            print('Insira o número de 1 a 4')\n",
    "\n",
    "# Chame a função para testar\n",
    "tabuada()"
   ]
  }
 ],
 "metadata": {
  "kernelspec": {
   "display_name": "Python 3 (ipykernel)",
   "language": "python",
   "name": "python3"
  },
  "language_info": {
   "codemirror_mode": {
    "name": "ipython",
    "version": 3
   },
   "file_extension": ".py",
   "mimetype": "text/x-python",
   "name": "python",
   "nbconvert_exporter": "python",
   "pygments_lexer": "ipython3",
   "version": "3.10.9"
  }
 },
 "nbformat": 4,
 "nbformat_minor": 5
}
